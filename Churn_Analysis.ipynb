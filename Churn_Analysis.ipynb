{
 "cells": [
  {
   "cell_type": "markdown",
   "id": "9a05a60d",
   "metadata": {
    "papermill": {
     "duration": 0.012658,
     "end_time": "2023-08-25T15:50:38.723517",
     "exception": false,
     "start_time": "2023-08-25T15:50:38.710859",
     "status": "completed"
    },
    "tags": []
   },
   "source": [
    "**INTRODUÇÃO**\n",
    "Identificar e satisfazer curiosidades sobre fatores que ocasionam o churn de alguns clientes."
   ]
  },
  {
   "cell_type": "code",
   "execution_count": 1,
   "id": "b167f5c8",
   "metadata": {
    "execution": {
     "iopub.execute_input": "2023-08-25T15:50:38.746309Z",
     "iopub.status.busy": "2023-08-25T15:50:38.745206Z",
     "iopub.status.idle": "2023-08-25T15:50:40.495223Z",
     "shell.execute_reply": "2023-08-25T15:50:40.493927Z"
    },
    "papermill": {
     "duration": 1.765027,
     "end_time": "2023-08-25T15:50:40.498305",
     "exception": false,
     "start_time": "2023-08-25T15:50:38.733278",
     "status": "completed"
    },
    "tags": []
   },
   "outputs": [
    {
     "name": "stdout",
     "output_type": "stream",
     "text": [
      "/kaggle/input/bank-customer-churn-dataset/Bank Customer Churn Prediction.csv\n"
     ]
    }
   ],
   "source": [
    "# manipulação dos dados\n",
    "import numpy as np\n",
    "import pandas as pd\n",
    "\n",
    "# sistema\n",
    "import os\n",
    "for dirname, _, filenames in os.walk('/kaggle/input'):\n",
    "    for filename in filenames:\n",
    "        print(os.path.join(dirname, filename))\n",
    "\n",
    "# exploração dos dados\n",
    "import matplotlib.pyplot as plt\n",
    "import seaborn as sns\n",
    "\n",
    "# configurações\n",
    "plt.style.use('ggplot')"
   ]
  },
  {
   "cell_type": "code",
   "execution_count": 2,
   "id": "d8e1e17a",
   "metadata": {
    "execution": {
     "iopub.execute_input": "2023-08-25T15:50:40.519738Z",
     "iopub.status.busy": "2023-08-25T15:50:40.519318Z",
     "iopub.status.idle": "2023-08-25T15:50:40.601666Z",
     "shell.execute_reply": "2023-08-25T15:50:40.600338Z"
    },
    "papermill": {
     "duration": 0.096228,
     "end_time": "2023-08-25T15:50:40.604527",
     "exception": false,
     "start_time": "2023-08-25T15:50:40.508299",
     "status": "completed"
    },
    "tags": []
   },
   "outputs": [
    {
     "data": {
      "text/html": [
       "<div>\n",
       "<style scoped>\n",
       "    .dataframe tbody tr th:only-of-type {\n",
       "        vertical-align: middle;\n",
       "    }\n",
       "\n",
       "    .dataframe tbody tr th {\n",
       "        vertical-align: top;\n",
       "    }\n",
       "\n",
       "    .dataframe thead th {\n",
       "        text-align: right;\n",
       "    }\n",
       "</style>\n",
       "<table border=\"1\" class=\"dataframe\">\n",
       "  <thead>\n",
       "    <tr style=\"text-align: right;\">\n",
       "      <th></th>\n",
       "      <th>customer_id</th>\n",
       "      <th>credit_score</th>\n",
       "      <th>country</th>\n",
       "      <th>gender</th>\n",
       "      <th>age</th>\n",
       "      <th>tenure</th>\n",
       "      <th>balance</th>\n",
       "      <th>products_number</th>\n",
       "      <th>credit_card</th>\n",
       "      <th>active_member</th>\n",
       "      <th>estimated_salary</th>\n",
       "      <th>churn</th>\n",
       "    </tr>\n",
       "  </thead>\n",
       "  <tbody>\n",
       "    <tr>\n",
       "      <th>0</th>\n",
       "      <td>15634602</td>\n",
       "      <td>619</td>\n",
       "      <td>France</td>\n",
       "      <td>Female</td>\n",
       "      <td>42</td>\n",
       "      <td>2</td>\n",
       "      <td>0.00</td>\n",
       "      <td>1</td>\n",
       "      <td>1</td>\n",
       "      <td>1</td>\n",
       "      <td>101348.88</td>\n",
       "      <td>1</td>\n",
       "    </tr>\n",
       "    <tr>\n",
       "      <th>1</th>\n",
       "      <td>15647311</td>\n",
       "      <td>608</td>\n",
       "      <td>Spain</td>\n",
       "      <td>Female</td>\n",
       "      <td>41</td>\n",
       "      <td>1</td>\n",
       "      <td>83807.86</td>\n",
       "      <td>1</td>\n",
       "      <td>0</td>\n",
       "      <td>1</td>\n",
       "      <td>112542.58</td>\n",
       "      <td>0</td>\n",
       "    </tr>\n",
       "    <tr>\n",
       "      <th>2</th>\n",
       "      <td>15619304</td>\n",
       "      <td>502</td>\n",
       "      <td>France</td>\n",
       "      <td>Female</td>\n",
       "      <td>42</td>\n",
       "      <td>8</td>\n",
       "      <td>159660.80</td>\n",
       "      <td>3</td>\n",
       "      <td>1</td>\n",
       "      <td>0</td>\n",
       "      <td>113931.57</td>\n",
       "      <td>1</td>\n",
       "    </tr>\n",
       "    <tr>\n",
       "      <th>3</th>\n",
       "      <td>15701354</td>\n",
       "      <td>699</td>\n",
       "      <td>France</td>\n",
       "      <td>Female</td>\n",
       "      <td>39</td>\n",
       "      <td>1</td>\n",
       "      <td>0.00</td>\n",
       "      <td>2</td>\n",
       "      <td>0</td>\n",
       "      <td>0</td>\n",
       "      <td>93826.63</td>\n",
       "      <td>0</td>\n",
       "    </tr>\n",
       "    <tr>\n",
       "      <th>4</th>\n",
       "      <td>15737888</td>\n",
       "      <td>850</td>\n",
       "      <td>Spain</td>\n",
       "      <td>Female</td>\n",
       "      <td>43</td>\n",
       "      <td>2</td>\n",
       "      <td>125510.82</td>\n",
       "      <td>1</td>\n",
       "      <td>1</td>\n",
       "      <td>1</td>\n",
       "      <td>79084.10</td>\n",
       "      <td>0</td>\n",
       "    </tr>\n",
       "  </tbody>\n",
       "</table>\n",
       "</div>"
      ],
      "text/plain": [
       "   customer_id  credit_score country  gender  age  tenure    balance  \\\n",
       "0     15634602           619  France  Female   42       2       0.00   \n",
       "1     15647311           608   Spain  Female   41       1   83807.86   \n",
       "2     15619304           502  France  Female   42       8  159660.80   \n",
       "3     15701354           699  France  Female   39       1       0.00   \n",
       "4     15737888           850   Spain  Female   43       2  125510.82   \n",
       "\n",
       "   products_number  credit_card  active_member  estimated_salary  churn  \n",
       "0                1            1              1         101348.88      1  \n",
       "1                1            0              1         112542.58      0  \n",
       "2                3            1              0         113931.57      1  \n",
       "3                2            0              0          93826.63      0  \n",
       "4                1            1              1          79084.10      0  "
      ]
     },
     "execution_count": 2,
     "metadata": {},
     "output_type": "execute_result"
    }
   ],
   "source": [
    "churn_data = pd.read_csv('/kaggle/input/bank-customer-churn-dataset/Bank Customer Churn Prediction.csv')\n",
    "churn_data.head()"
   ]
  },
  {
   "cell_type": "code",
   "execution_count": 3,
   "id": "ee78f7cf",
   "metadata": {
    "execution": {
     "iopub.execute_input": "2023-08-25T15:50:40.628910Z",
     "iopub.status.busy": "2023-08-25T15:50:40.627864Z",
     "iopub.status.idle": "2023-08-25T15:50:40.650712Z",
     "shell.execute_reply": "2023-08-25T15:50:40.649513Z"
    },
    "papermill": {
     "duration": 0.038428,
     "end_time": "2023-08-25T15:50:40.653304",
     "exception": false,
     "start_time": "2023-08-25T15:50:40.614876",
     "status": "completed"
    },
    "tags": []
   },
   "outputs": [
    {
     "data": {
      "text/plain": [
       "gender                  2\n",
       "credit_card             2\n",
       "active_member           2\n",
       "churn                   2\n",
       "country                 3\n",
       "products_number         4\n",
       "tenure                 11\n",
       "age                    70\n",
       "credit_score          460\n",
       "balance              6382\n",
       "estimated_salary     9999\n",
       "customer_id         10000\n",
       "dtype: int64"
      ]
     },
     "execution_count": 3,
     "metadata": {},
     "output_type": "execute_result"
    }
   ],
   "source": [
    "churn_data.nunique().sort_values()"
   ]
  },
  {
   "cell_type": "code",
   "execution_count": 4,
   "id": "5210d11b",
   "metadata": {
    "execution": {
     "iopub.execute_input": "2023-08-25T15:50:40.675465Z",
     "iopub.status.busy": "2023-08-25T15:50:40.674990Z",
     "iopub.status.idle": "2023-08-25T15:50:40.684405Z",
     "shell.execute_reply": "2023-08-25T15:50:40.682900Z"
    },
    "papermill": {
     "duration": 0.023586,
     "end_time": "2023-08-25T15:50:40.687072",
     "exception": false,
     "start_time": "2023-08-25T15:50:40.663486",
     "status": "completed"
    },
    "tags": []
   },
   "outputs": [
    {
     "data": {
      "text/plain": [
       "array(['France', 'Spain', 'Germany'], dtype=object)"
      ]
     },
     "execution_count": 4,
     "metadata": {},
     "output_type": "execute_result"
    }
   ],
   "source": [
    "churn_data.country.unique()"
   ]
  },
  {
   "cell_type": "code",
   "execution_count": 5,
   "id": "47a243de",
   "metadata": {
    "execution": {
     "iopub.execute_input": "2023-08-25T15:50:40.710830Z",
     "iopub.status.busy": "2023-08-25T15:50:40.710372Z",
     "iopub.status.idle": "2023-08-25T15:50:40.720127Z",
     "shell.execute_reply": "2023-08-25T15:50:40.718929Z"
    },
    "papermill": {
     "duration": 0.025063,
     "end_time": "2023-08-25T15:50:40.722829",
     "exception": false,
     "start_time": "2023-08-25T15:50:40.697766",
     "status": "completed"
    },
    "tags": []
   },
   "outputs": [
    {
     "data": {
      "text/plain": [
       "'Saldo mínimo: 0.0 e Saldo máximo: 250898.09'"
      ]
     },
     "execution_count": 5,
     "metadata": {},
     "output_type": "execute_result"
    }
   ],
   "source": [
    "min_balance = churn_data.balance.min()\n",
    "max_balance = churn_data.balance.max()\n",
    "f'Saldo mínimo: {min_balance} e Saldo máximo: {max_balance}'"
   ]
  },
  {
   "cell_type": "code",
   "execution_count": 6,
   "id": "7d442ab3",
   "metadata": {
    "execution": {
     "iopub.execute_input": "2023-08-25T15:50:40.745943Z",
     "iopub.status.busy": "2023-08-25T15:50:40.745548Z",
     "iopub.status.idle": "2023-08-25T15:50:40.754243Z",
     "shell.execute_reply": "2023-08-25T15:50:40.753012Z"
    },
    "papermill": {
     "duration": 0.0236,
     "end_time": "2023-08-25T15:50:40.756979",
     "exception": false,
     "start_time": "2023-08-25T15:50:40.733379",
     "status": "completed"
    },
    "tags": []
   },
   "outputs": [
    {
     "data": {
      "text/plain": [
       "'Salário mínimo: 11.58 e Salário máximo: 199992.48'"
      ]
     },
     "execution_count": 6,
     "metadata": {},
     "output_type": "execute_result"
    }
   ],
   "source": [
    "min_salary = churn_data.estimated_salary.min()\n",
    "max_salary = churn_data.estimated_salary.max()\n",
    "f'Salário mínimo: {min_salary} e Salário máximo: {max_salary}'"
   ]
  },
  {
   "cell_type": "code",
   "execution_count": 7,
   "id": "62c2da4c",
   "metadata": {
    "execution": {
     "iopub.execute_input": "2023-08-25T15:50:40.780404Z",
     "iopub.status.busy": "2023-08-25T15:50:40.780007Z",
     "iopub.status.idle": "2023-08-25T15:50:40.814482Z",
     "shell.execute_reply": "2023-08-25T15:50:40.813186Z"
    },
    "papermill": {
     "duration": 0.049856,
     "end_time": "2023-08-25T15:50:40.817473",
     "exception": false,
     "start_time": "2023-08-25T15:50:40.767617",
     "status": "completed"
    },
    "tags": []
   },
   "outputs": [
    {
     "data": {
      "text/html": [
       "<div>\n",
       "<style scoped>\n",
       "    .dataframe tbody tr th:only-of-type {\n",
       "        vertical-align: middle;\n",
       "    }\n",
       "\n",
       "    .dataframe tbody tr th {\n",
       "        vertical-align: top;\n",
       "    }\n",
       "\n",
       "    .dataframe thead th {\n",
       "        text-align: right;\n",
       "    }\n",
       "</style>\n",
       "<table border=\"1\" class=\"dataframe\">\n",
       "  <thead>\n",
       "    <tr style=\"text-align: right;\">\n",
       "      <th></th>\n",
       "      <th>customer_id</th>\n",
       "      <th>credit_score</th>\n",
       "      <th>country</th>\n",
       "      <th>gender</th>\n",
       "      <th>age</th>\n",
       "      <th>tenure</th>\n",
       "      <th>balance</th>\n",
       "      <th>products_number</th>\n",
       "      <th>credit_card</th>\n",
       "      <th>active_member</th>\n",
       "      <th>estimated_salary</th>\n",
       "      <th>churn</th>\n",
       "    </tr>\n",
       "  </thead>\n",
       "  <tbody>\n",
       "    <tr>\n",
       "      <th>0</th>\n",
       "      <td>15634602</td>\n",
       "      <td>619</td>\n",
       "      <td>France</td>\n",
       "      <td>Female</td>\n",
       "      <td>42</td>\n",
       "      <td>2</td>\n",
       "      <td>0.0</td>\n",
       "      <td>1</td>\n",
       "      <td>1</td>\n",
       "      <td>1</td>\n",
       "      <td>101348.88</td>\n",
       "      <td>1</td>\n",
       "    </tr>\n",
       "    <tr>\n",
       "      <th>3</th>\n",
       "      <td>15701354</td>\n",
       "      <td>699</td>\n",
       "      <td>France</td>\n",
       "      <td>Female</td>\n",
       "      <td>39</td>\n",
       "      <td>1</td>\n",
       "      <td>0.0</td>\n",
       "      <td>2</td>\n",
       "      <td>0</td>\n",
       "      <td>0</td>\n",
       "      <td>93826.63</td>\n",
       "      <td>0</td>\n",
       "    </tr>\n",
       "    <tr>\n",
       "      <th>6</th>\n",
       "      <td>15592531</td>\n",
       "      <td>822</td>\n",
       "      <td>France</td>\n",
       "      <td>Male</td>\n",
       "      <td>50</td>\n",
       "      <td>7</td>\n",
       "      <td>0.0</td>\n",
       "      <td>2</td>\n",
       "      <td>1</td>\n",
       "      <td>1</td>\n",
       "      <td>10062.80</td>\n",
       "      <td>0</td>\n",
       "    </tr>\n",
       "    <tr>\n",
       "      <th>11</th>\n",
       "      <td>15737173</td>\n",
       "      <td>497</td>\n",
       "      <td>Spain</td>\n",
       "      <td>Male</td>\n",
       "      <td>24</td>\n",
       "      <td>3</td>\n",
       "      <td>0.0</td>\n",
       "      <td>2</td>\n",
       "      <td>1</td>\n",
       "      <td>0</td>\n",
       "      <td>76390.01</td>\n",
       "      <td>0</td>\n",
       "    </tr>\n",
       "    <tr>\n",
       "      <th>12</th>\n",
       "      <td>15632264</td>\n",
       "      <td>476</td>\n",
       "      <td>France</td>\n",
       "      <td>Female</td>\n",
       "      <td>34</td>\n",
       "      <td>10</td>\n",
       "      <td>0.0</td>\n",
       "      <td>2</td>\n",
       "      <td>1</td>\n",
       "      <td>0</td>\n",
       "      <td>26260.98</td>\n",
       "      <td>0</td>\n",
       "    </tr>\n",
       "    <tr>\n",
       "      <th>...</th>\n",
       "      <td>...</td>\n",
       "      <td>...</td>\n",
       "      <td>...</td>\n",
       "      <td>...</td>\n",
       "      <td>...</td>\n",
       "      <td>...</td>\n",
       "      <td>...</td>\n",
       "      <td>...</td>\n",
       "      <td>...</td>\n",
       "      <td>...</td>\n",
       "      <td>...</td>\n",
       "      <td>...</td>\n",
       "    </tr>\n",
       "    <tr>\n",
       "      <th>9989</th>\n",
       "      <td>15605622</td>\n",
       "      <td>841</td>\n",
       "      <td>Spain</td>\n",
       "      <td>Male</td>\n",
       "      <td>28</td>\n",
       "      <td>4</td>\n",
       "      <td>0.0</td>\n",
       "      <td>2</td>\n",
       "      <td>1</td>\n",
       "      <td>1</td>\n",
       "      <td>179436.60</td>\n",
       "      <td>0</td>\n",
       "    </tr>\n",
       "    <tr>\n",
       "      <th>9992</th>\n",
       "      <td>15657105</td>\n",
       "      <td>726</td>\n",
       "      <td>Spain</td>\n",
       "      <td>Male</td>\n",
       "      <td>36</td>\n",
       "      <td>2</td>\n",
       "      <td>0.0</td>\n",
       "      <td>1</td>\n",
       "      <td>1</td>\n",
       "      <td>0</td>\n",
       "      <td>195192.40</td>\n",
       "      <td>0</td>\n",
       "    </tr>\n",
       "    <tr>\n",
       "      <th>9994</th>\n",
       "      <td>15719294</td>\n",
       "      <td>800</td>\n",
       "      <td>France</td>\n",
       "      <td>Female</td>\n",
       "      <td>29</td>\n",
       "      <td>2</td>\n",
       "      <td>0.0</td>\n",
       "      <td>2</td>\n",
       "      <td>0</td>\n",
       "      <td>0</td>\n",
       "      <td>167773.55</td>\n",
       "      <td>0</td>\n",
       "    </tr>\n",
       "    <tr>\n",
       "      <th>9995</th>\n",
       "      <td>15606229</td>\n",
       "      <td>771</td>\n",
       "      <td>France</td>\n",
       "      <td>Male</td>\n",
       "      <td>39</td>\n",
       "      <td>5</td>\n",
       "      <td>0.0</td>\n",
       "      <td>2</td>\n",
       "      <td>1</td>\n",
       "      <td>0</td>\n",
       "      <td>96270.64</td>\n",
       "      <td>0</td>\n",
       "    </tr>\n",
       "    <tr>\n",
       "      <th>9997</th>\n",
       "      <td>15584532</td>\n",
       "      <td>709</td>\n",
       "      <td>France</td>\n",
       "      <td>Female</td>\n",
       "      <td>36</td>\n",
       "      <td>7</td>\n",
       "      <td>0.0</td>\n",
       "      <td>1</td>\n",
       "      <td>0</td>\n",
       "      <td>1</td>\n",
       "      <td>42085.58</td>\n",
       "      <td>1</td>\n",
       "    </tr>\n",
       "  </tbody>\n",
       "</table>\n",
       "<p>3617 rows × 12 columns</p>\n",
       "</div>"
      ],
      "text/plain": [
       "      customer_id  credit_score country  gender  age  tenure  balance  \\\n",
       "0        15634602           619  France  Female   42       2      0.0   \n",
       "3        15701354           699  France  Female   39       1      0.0   \n",
       "6        15592531           822  France    Male   50       7      0.0   \n",
       "11       15737173           497   Spain    Male   24       3      0.0   \n",
       "12       15632264           476  France  Female   34      10      0.0   \n",
       "...           ...           ...     ...     ...  ...     ...      ...   \n",
       "9989     15605622           841   Spain    Male   28       4      0.0   \n",
       "9992     15657105           726   Spain    Male   36       2      0.0   \n",
       "9994     15719294           800  France  Female   29       2      0.0   \n",
       "9995     15606229           771  France    Male   39       5      0.0   \n",
       "9997     15584532           709  France  Female   36       7      0.0   \n",
       "\n",
       "      products_number  credit_card  active_member  estimated_salary  churn  \n",
       "0                   1            1              1         101348.88      1  \n",
       "3                   2            0              0          93826.63      0  \n",
       "6                   2            1              1          10062.80      0  \n",
       "11                  2            1              0          76390.01      0  \n",
       "12                  2            1              0          26260.98      0  \n",
       "...               ...          ...            ...               ...    ...  \n",
       "9989                2            1              1         179436.60      0  \n",
       "9992                1            1              0         195192.40      0  \n",
       "9994                2            0              0         167773.55      0  \n",
       "9995                2            1              0          96270.64      0  \n",
       "9997                1            0              1          42085.58      1  \n",
       "\n",
       "[3617 rows x 12 columns]"
      ]
     },
     "execution_count": 7,
     "metadata": {},
     "output_type": "execute_result"
    }
   ],
   "source": [
    "churn_data.query(\"balance == 0\")"
   ]
  },
  {
   "cell_type": "code",
   "execution_count": 8,
   "id": "b6062278",
   "metadata": {
    "execution": {
     "iopub.execute_input": "2023-08-25T15:50:40.842888Z",
     "iopub.status.busy": "2023-08-25T15:50:40.842460Z",
     "iopub.status.idle": "2023-08-25T15:50:40.879770Z",
     "shell.execute_reply": "2023-08-25T15:50:40.878407Z"
    },
    "papermill": {
     "duration": 0.053905,
     "end_time": "2023-08-25T15:50:40.882659",
     "exception": false,
     "start_time": "2023-08-25T15:50:40.828754",
     "status": "completed"
    },
    "tags": []
   },
   "outputs": [
    {
     "data": {
      "text/html": [
       "<div>\n",
       "<style scoped>\n",
       "    .dataframe tbody tr th:only-of-type {\n",
       "        vertical-align: middle;\n",
       "    }\n",
       "\n",
       "    .dataframe tbody tr th {\n",
       "        vertical-align: top;\n",
       "    }\n",
       "\n",
       "    .dataframe thead th {\n",
       "        text-align: right;\n",
       "    }\n",
       "</style>\n",
       "<table border=\"1\" class=\"dataframe\">\n",
       "  <thead>\n",
       "    <tr style=\"text-align: right;\">\n",
       "      <th></th>\n",
       "      <th>customer_id</th>\n",
       "      <th>credit_score</th>\n",
       "      <th>country</th>\n",
       "      <th>gender</th>\n",
       "      <th>age</th>\n",
       "      <th>tenure</th>\n",
       "      <th>balance</th>\n",
       "      <th>products_number</th>\n",
       "      <th>credit_card</th>\n",
       "      <th>active_member</th>\n",
       "      <th>estimated_salary</th>\n",
       "      <th>churn</th>\n",
       "    </tr>\n",
       "  </thead>\n",
       "  <tbody>\n",
       "    <tr>\n",
       "      <th>2092</th>\n",
       "      <td>15757408</td>\n",
       "      <td>655</td>\n",
       "      <td>Spain</td>\n",
       "      <td>Male</td>\n",
       "      <td>38</td>\n",
       "      <td>3</td>\n",
       "      <td>250898.09</td>\n",
       "      <td>3</td>\n",
       "      <td>0</td>\n",
       "      <td>1</td>\n",
       "      <td>81054.00</td>\n",
       "      <td>1</td>\n",
       "    </tr>\n",
       "    <tr>\n",
       "      <th>3280</th>\n",
       "      <td>15715622</td>\n",
       "      <td>583</td>\n",
       "      <td>France</td>\n",
       "      <td>Female</td>\n",
       "      <td>57</td>\n",
       "      <td>3</td>\n",
       "      <td>238387.56</td>\n",
       "      <td>1</td>\n",
       "      <td>0</td>\n",
       "      <td>1</td>\n",
       "      <td>147964.99</td>\n",
       "      <td>1</td>\n",
       "    </tr>\n",
       "    <tr>\n",
       "      <th>3580</th>\n",
       "      <td>15634359</td>\n",
       "      <td>639</td>\n",
       "      <td>Germany</td>\n",
       "      <td>Female</td>\n",
       "      <td>41</td>\n",
       "      <td>5</td>\n",
       "      <td>98635.77</td>\n",
       "      <td>1</td>\n",
       "      <td>1</td>\n",
       "      <td>0</td>\n",
       "      <td>199970.74</td>\n",
       "      <td>0</td>\n",
       "    </tr>\n",
       "    <tr>\n",
       "      <th>4417</th>\n",
       "      <td>15697270</td>\n",
       "      <td>608</td>\n",
       "      <td>Spain</td>\n",
       "      <td>Male</td>\n",
       "      <td>27</td>\n",
       "      <td>4</td>\n",
       "      <td>153325.10</td>\n",
       "      <td>1</td>\n",
       "      <td>1</td>\n",
       "      <td>1</td>\n",
       "      <td>199953.33</td>\n",
       "      <td>0</td>\n",
       "    </tr>\n",
       "    <tr>\n",
       "      <th>6646</th>\n",
       "      <td>15662021</td>\n",
       "      <td>685</td>\n",
       "      <td>Spain</td>\n",
       "      <td>Female</td>\n",
       "      <td>42</td>\n",
       "      <td>2</td>\n",
       "      <td>0.00</td>\n",
       "      <td>2</td>\n",
       "      <td>0</td>\n",
       "      <td>0</td>\n",
       "      <td>199992.48</td>\n",
       "      <td>0</td>\n",
       "    </tr>\n",
       "    <tr>\n",
       "      <th>8733</th>\n",
       "      <td>15714241</td>\n",
       "      <td>749</td>\n",
       "      <td>Spain</td>\n",
       "      <td>Male</td>\n",
       "      <td>42</td>\n",
       "      <td>9</td>\n",
       "      <td>222267.63</td>\n",
       "      <td>1</td>\n",
       "      <td>0</td>\n",
       "      <td>0</td>\n",
       "      <td>101108.85</td>\n",
       "      <td>1</td>\n",
       "    </tr>\n",
       "  </tbody>\n",
       "</table>\n",
       "</div>"
      ],
      "text/plain": [
       "      customer_id  credit_score  country  gender  age  tenure    balance  \\\n",
       "2092     15757408           655    Spain    Male   38       3  250898.09   \n",
       "3280     15715622           583   France  Female   57       3  238387.56   \n",
       "3580     15634359           639  Germany  Female   41       5   98635.77   \n",
       "4417     15697270           608    Spain    Male   27       4  153325.10   \n",
       "6646     15662021           685    Spain  Female   42       2       0.00   \n",
       "8733     15714241           749    Spain    Male   42       9  222267.63   \n",
       "\n",
       "      products_number  credit_card  active_member  estimated_salary  churn  \n",
       "2092                3            0              1          81054.00      1  \n",
       "3280                1            0              1         147964.99      1  \n",
       "3580                1            1              0         199970.74      0  \n",
       "4417                1            1              1         199953.33      0  \n",
       "6646                2            0              0         199992.48      0  \n",
       "8733                1            0              0         101108.85      1  "
      ]
     },
     "execution_count": 8,
     "metadata": {},
     "output_type": "execute_result"
    }
   ],
   "source": [
    "churn_data.query(f\"balance in {churn_data.balance.nlargest(3).to_list()} or estimated_salary in {churn_data.estimated_salary.nlargest(3).to_list()}\") "
   ]
  },
  {
   "cell_type": "markdown",
   "id": "e96d951b",
   "metadata": {
    "papermill": {
     "duration": 0.011532,
     "end_time": "2023-08-25T15:50:40.905930",
     "exception": false,
     "start_time": "2023-08-25T15:50:40.894398",
     "status": "completed"
    },
    "tags": []
   },
   "source": [
    "ANÁLISE EXPLORATÓRIA"
   ]
  },
  {
   "cell_type": "code",
   "execution_count": 9,
   "id": "be41486b",
   "metadata": {
    "execution": {
     "iopub.execute_input": "2023-08-25T15:50:40.931697Z",
     "iopub.status.busy": "2023-08-25T15:50:40.931153Z",
     "iopub.status.idle": "2023-08-25T15:50:40.942460Z",
     "shell.execute_reply": "2023-08-25T15:50:40.941526Z"
    },
    "papermill": {
     "duration": 0.027955,
     "end_time": "2023-08-25T15:50:40.945321",
     "exception": false,
     "start_time": "2023-08-25T15:50:40.917366",
     "status": "completed"
    },
    "tags": []
   },
   "outputs": [
    {
     "data": {
      "text/plain": [
       "Male      0.5457\n",
       "Female    0.4543\n",
       "Name: gender, dtype: float64"
      ]
     },
     "execution_count": 9,
     "metadata": {},
     "output_type": "execute_result"
    }
   ],
   "source": [
    "gender_count = churn_data.gender.value_counts(normalize=True)\n",
    "gender_count"
   ]
  },
  {
   "cell_type": "code",
   "execution_count": 10,
   "id": "28ed8c0e",
   "metadata": {
    "execution": {
     "iopub.execute_input": "2023-08-25T15:50:40.971861Z",
     "iopub.status.busy": "2023-08-25T15:50:40.971475Z",
     "iopub.status.idle": "2023-08-25T15:50:41.377975Z",
     "shell.execute_reply": "2023-08-25T15:50:41.376635Z"
    },
    "papermill": {
     "duration": 0.423461,
     "end_time": "2023-08-25T15:50:41.380776",
     "exception": false,
     "start_time": "2023-08-25T15:50:40.957315",
     "status": "completed"
    },
    "tags": []
   },
   "outputs": [
    {
     "data": {
      "image/png": "[encoded data removed]",
      "text/plain": [
       "<Figure size 640x480 with 1 Axes>"
      ]
     },
     "metadata": {},
     "output_type": "display_data"
    }
   ],
   "source": [
    "gender_count.plot.bar()\n",
    "plt.title('Distribuição de Gênero')\n",
    "_ = plt.text(-0.1, 0.55, gender_count[0])\n",
    "_ = plt.text(0.91, 0.46, gender_count[1])"
   ]
  },
  {
   "cell_type": "code",
   "execution_count": 11,
   "id": "bb7b191e",
   "metadata": {
    "execution": {
     "iopub.execute_input": "2023-08-25T15:50:41.406855Z",
     "iopub.status.busy": "2023-08-25T15:50:41.406423Z",
     "iopub.status.idle": "2023-08-25T15:50:42.409438Z",
     "shell.execute_reply": "2023-08-25T15:50:42.408507Z"
    },
    "papermill": {
     "duration": 1.019119,
     "end_time": "2023-08-25T15:50:42.411889",
     "exception": false,
     "start_time": "2023-08-25T15:50:41.392770",
     "status": "completed"
    },
    "tags": []
   },
   "outputs": [
    {
     "data": {
      "image/png": "[encoded data removed]",
      "text/plain": [
       "<Figure size 2000x1000 with 4 Axes>"
      ]
     },
     "metadata": {},
     "output_type": "display_data"
    }
   ],
   "source": [
    "fig, axes = plt.subplots(2, 2, figsize=(20, 10))\n",
    "_ = sns.countplot(data=churn_data, x='country', ax=axes[0][0])\n",
    "_ = sns.countplot(data=churn_data, x='products_number', ax=axes[0][1])\n",
    "_ = sns.countplot(data=churn_data, x='credit_card', ax=axes[1][0])\n",
    "_ = sns.countplot(data=churn_data, x='active_member', ax=axes[1][1])\n",
    "_ = plt.tight_layout()"
   ]
  },
  {
   "cell_type": "code",
   "execution_count": 12,
   "id": "aee3ebd5",
   "metadata": {
    "execution": {
     "iopub.execute_input": "2023-08-25T15:50:42.440717Z",
     "iopub.status.busy": "2023-08-25T15:50:42.439772Z",
     "iopub.status.idle": "2023-08-25T15:50:42.840171Z",
     "shell.execute_reply": "2023-08-25T15:50:42.838764Z"
    },
    "papermill": {
     "duration": 0.417751,
     "end_time": "2023-08-25T15:50:42.842814",
     "exception": false,
     "start_time": "2023-08-25T15:50:42.425063",
     "status": "completed"
    },
    "tags": []
   },
   "outputs": [
    {
     "data": {
      "image/png": "[encoded data removed]",
      "text/plain": [
       "<Figure size 640x480 with 1 Axes>"
      ]
     },
     "metadata": {},
     "output_type": "display_data"
    }
   ],
   "source": [
    "_ = plt.hist(churn_data.balance, bins=50, color='purple')"
   ]
  },
  {
   "cell_type": "code",
   "execution_count": 13,
   "id": "8643176a",
   "metadata": {
    "execution": {
     "iopub.execute_input": "2023-08-25T15:50:42.873400Z",
     "iopub.status.busy": "2023-08-25T15:50:42.872963Z",
     "iopub.status.idle": "2023-08-25T15:50:43.460180Z",
     "shell.execute_reply": "2023-08-25T15:50:43.457917Z"
    },
    "papermill": {
     "duration": 0.604721,
     "end_time": "2023-08-25T15:50:43.462639",
     "exception": true,
     "start_time": "2023-08-25T15:50:42.857918",
     "status": "failed"
    },
    "tags": []
   },
   "outputs": [
    {
     "ename": "NameError",
     "evalue": "name 'zero_balance' is not defined",
     "output_type": "error",
     "traceback": [
      "\u001b[0;31m---------------------------------------------------------------------------\u001b[0m",
      "\u001b[0;31mNameError\u001b[0m                                 Traceback (most recent call last)",
      "Cell \u001b[0;32mIn[13], line 1\u001b[0m\n\u001b[0;32m----> 1\u001b[0m \u001b[38;5;28mprint\u001b[39m(\u001b[38;5;124mf\u001b[39m\u001b[38;5;124m'\u001b[39m\u001b[38;5;124mO número de clientes que não possuem saldo é de \u001b[39m\u001b[38;5;132;01m{\u001b[39;00m\u001b[38;5;28mlen\u001b[39m(\u001b[43mzero_balance\u001b[49m)\u001b[38;5;132;01m}\u001b[39;00m\u001b[38;5;124m.\u001b[39m\u001b[38;5;124m'\u001b[39m)\n",
      "\u001b[0;31mNameError\u001b[0m: name 'zero_balance' is not defined"
     ]
    }
   ],
   "source": [
    "print(f'O número de clientes que não possuem saldo é de {len(zero_balance)}.')"
   ]
  },
  {
   "cell_type": "code",
   "execution_count": null,
   "id": "69bbcee1",
   "metadata": {
    "papermill": {
     "duration": null,
     "end_time": null,
     "exception": null,
     "start_time": null,
     "status": "pending"
    },
    "tags": []
   },
   "outputs": [],
   "source": [
    "_ = sns.relplot(x = 'estimated_salary', y = 'balance', data=churn_data, col='country', color='purple')"
   ]
  },
  {
   "cell_type": "code",
   "execution_count": null,
   "id": "51f3975e",
   "metadata": {
    "papermill": {
     "duration": null,
     "end_time": null,
     "exception": null,
     "start_time": null,
     "status": "pending"
    },
    "tags": []
   },
   "outputs": [],
   "source": [
    "_ = sns.jointplot(x='estimated_salary', y='age', data=churn_data)"
   ]
  },
  {
   "cell_type": "markdown",
   "id": "b39d6478",
   "metadata": {
    "papermill": {
     "duration": null,
     "end_time": null,
     "exception": null,
     "start_time": null,
     "status": "pending"
    },
    "tags": []
   },
   "source": [
    "ANÁLISE DE CHURN"
   ]
  },
  {
   "cell_type": "code",
   "execution_count": null,
   "id": "ec96b7f6",
   "metadata": {
    "papermill": {
     "duration": null,
     "end_time": null,
     "exception": null,
     "start_time": null,
     "status": "pending"
    },
    "tags": []
   },
   "outputs": [],
   "source": [
    "_ = churn_data.churn.value_counts(1).plot.bar()\n",
    "_ = plt.title('Distribuição de Churn')\n",
    "_ = plt.text(-0.06, 0.815, churn_data.churn.value_counts(0)[0])\n",
    "_ = plt.text(0.93, 0.22, churn_data.churn.value_counts(0)[1])\n",
    "_ = plt.ylim(0, 0.88)"
   ]
  },
  {
   "cell_type": "code",
   "execution_count": null,
   "id": "4a9f788a",
   "metadata": {
    "papermill": {
     "duration": null,
     "end_time": null,
     "exception": null,
     "start_time": null,
     "status": "pending"
    },
    "tags": []
   },
   "outputs": [],
   "source": [
    "fig, axes = plt.subplots(2, 1)\n",
    "_ = sns.boxplot(data=churn_data, x = 'churn', y='estimated_salary', ax=axes[0])\n",
    "_ = sns.boxplot(data=churn_data, x = 'churn', y='balance', ax=axes[1])\n",
    "_ = fig.tight_layout()"
   ]
  },
  {
   "cell_type": "code",
   "execution_count": null,
   "id": "4f763ba3",
   "metadata": {
    "papermill": {
     "duration": null,
     "end_time": null,
     "exception": null,
     "start_time": null,
     "status": "pending"
    },
    "tags": []
   },
   "outputs": [],
   "source": [
    "churn_data.describe()"
   ]
  },
  {
   "cell_type": "code",
   "execution_count": null,
   "id": "ba0105c8",
   "metadata": {
    "papermill": {
     "duration": null,
     "end_time": null,
     "exception": null,
     "start_time": null,
     "status": "pending"
    },
    "tags": []
   },
   "outputs": [],
   "source": [
    "churn_data.groupby('churn')['balance'].median()"
   ]
  },
  {
   "cell_type": "code",
   "execution_count": null,
   "id": "548aefff",
   "metadata": {
    "papermill": {
     "duration": null,
     "end_time": null,
     "exception": null,
     "start_time": null,
     "status": "pending"
    },
    "tags": []
   },
   "outputs": [],
   "source": [
    "churn_data.groupby('churn')['balance'].mean()"
   ]
  },
  {
   "cell_type": "code",
   "execution_count": null,
   "id": "244e7975",
   "metadata": {
    "papermill": {
     "duration": null,
     "end_time": null,
     "exception": null,
     "start_time": null,
     "status": "pending"
    },
    "tags": []
   },
   "outputs": [],
   "source": [
    "churn_data.groupby('churn').agg({'balance': ['mean', 'median']})"
   ]
  },
  {
   "cell_type": "code",
   "execution_count": null,
   "id": "9fe32421",
   "metadata": {
    "papermill": {
     "duration": null,
     "end_time": null,
     "exception": null,
     "start_time": null,
     "status": "pending"
    },
    "tags": []
   },
   "outputs": [],
   "source": [
    "agg_func = {\n",
    "    'estimated_salary':['min', 'median', 'mean', 'std', skew],\n",
    "    'balance':['min', 'median', 'mean', 'std', skew],\n",
    "    'age':['min', 'median', 'mean', 'std', skew]\n",
    "}\n",
    "\n",
    "churn_data.groupby('churn').agg(agg_func)"
   ]
  },
  {
   "cell_type": "code",
   "execution_count": null,
   "id": "0f66613e",
   "metadata": {
    "papermill": {
     "duration": null,
     "end_time": null,
     "exception": null,
     "start_time": null,
     "status": "pending"
    },
    "tags": []
   },
   "outputs": [],
   "source": [
    "sns.boxplot(data=churn_data, x = 'churn', y='age')"
   ]
  },
  {
   "cell_type": "code",
   "execution_count": null,
   "id": "f1562a7e",
   "metadata": {
    "papermill": {
     "duration": null,
     "end_time": null,
     "exception": null,
     "start_time": null,
     "status": "pending"
    },
    "tags": []
   },
   "outputs": [],
   "source": [
    "churn_data.groupby('churn').agg({'credit_score':['min','max','mean', 'median']})"
   ]
  },
  {
   "cell_type": "markdown",
   "id": "57ceb967",
   "metadata": {
    "papermill": {
     "duration": null,
     "end_time": null,
     "exception": null,
     "start_time": null,
     "status": "pending"
    },
    "tags": []
   },
   "source": [
    "HIPÓTESE"
   ]
  },
  {
   "cell_type": "code",
   "execution_count": null,
   "id": "fb3c647e",
   "metadata": {
    "papermill": {
     "duration": null,
     "end_time": null,
     "exception": null,
     "start_time": null,
     "status": "pending"
    },
    "tags": []
   },
   "outputs": [],
   "source": [
    "france_data = churn_data[churn_data['country'] == 'France']\n",
    "spain_data = churn_data[churn_data['country'] == 'Spain']\n",
    "germany_data = churn_data[churn_data['country'] == 'Germany']"
   ]
  },
  {
   "cell_type": "code",
   "execution_count": null,
   "id": "a2b5fd4d",
   "metadata": {
    "papermill": {
     "duration": null,
     "end_time": null,
     "exception": null,
     "start_time": null,
     "status": "pending"
    },
    "tags": []
   },
   "outputs": [],
   "source": [
    "sns.countplot(data=churn_data, x='country', hue='churn')\n",
    "# France\n",
    "_ = plt.text(-0.3, 4250, str(france_data['churn'].value_counts(0)[0]))\n",
    "_ = plt.text(0.12, 850, str(france_data['churn'].value_counts(0)[1]))\n",
    "# Spain\n",
    "_ = plt.text(0.70, 2100, str(spain_data['churn'].value_counts(0)[0]))\n",
    "_ = plt.text(1.12, 450, str(spain_data['churn'].value_counts(0)[1]))\n",
    "# Germany\n",
    "_ = plt.text(1.7, 1740, str(germany_data['churn'].value_counts(0)[0]))\n",
    "_ = plt.text(2.12, 850, str(germany_data['churn'].value_counts(0)[1]))"
   ]
  },
  {
   "cell_type": "code",
   "execution_count": null,
   "id": "b5c6138a",
   "metadata": {
    "papermill": {
     "duration": null,
     "end_time": null,
     "exception": null,
     "start_time": null,
     "status": "pending"
    },
    "tags": []
   },
   "outputs": [],
   "source": [
    "churn_data.groupby('country')['churn'].mean().sort_values()"
   ]
  },
  {
   "cell_type": "code",
   "execution_count": null,
   "id": "46a5569a",
   "metadata": {
    "papermill": {
     "duration": null,
     "end_time": null,
     "exception": null,
     "start_time": null,
     "status": "pending"
    },
    "tags": []
   },
   "outputs": [],
   "source": [
    "churn_data.groupby('credit_card')['churn'].mean().sort_values()"
   ]
  },
  {
   "cell_type": "code",
   "execution_count": null,
   "id": "c520706a",
   "metadata": {
    "papermill": {
     "duration": null,
     "end_time": null,
     "exception": null,
     "start_time": null,
     "status": "pending"
    },
    "tags": []
   },
   "outputs": [],
   "source": [
    "churn_data.groupby('products_number')['churn'].mean().sort_values()"
   ]
  },
  {
   "cell_type": "code",
   "execution_count": null,
   "id": "33c22e81",
   "metadata": {
    "papermill": {
     "duration": null,
     "end_time": null,
     "exception": null,
     "start_time": null,
     "status": "pending"
    },
    "tags": []
   },
   "outputs": [],
   "source": [
    "products_churn = sns.countplot(data=churn_data, x='products_number', hue='churn')\n",
    "sns.move_legend(products_churn, loc='upper right')"
   ]
  },
  {
   "cell_type": "code",
   "execution_count": null,
   "id": "c368cd40",
   "metadata": {
    "papermill": {
     "duration": null,
     "end_time": null,
     "exception": null,
     "start_time": null,
     "status": "pending"
    },
    "tags": []
   },
   "outputs": [],
   "source": [
    "churn_data.groupby('gender')['churn'].mean().sort_values()"
   ]
  },
  {
   "cell_type": "markdown",
   "id": "2caae509",
   "metadata": {
    "papermill": {
     "duration": null,
     "end_time": null,
     "exception": null,
     "start_time": null,
     "status": "pending"
    },
    "tags": []
   },
   "source": [
    "CONCLUSÃO\n",
    "\n",
    "A análise acima mostra alguns fatores relevantes para o churn, como o saldo, idade, gênero, país e número de produtos.\n",
    "Nota-se que clientes com maior saldo tem mais propensão ao churn.\n",
    "Clientes com idade média acima de 45 anos, mulheres, alemães e aqueles que possuem três ou mais produtos também tem um índice de churn maior."
   ]
  }
 ],
 "metadata": {
  "kernelspec": {
   "display_name": "Python 3",
   "language": "python",
   "name": "python3"
  },
  "language_info": {
   "codemirror_mode": {
    "name": "ipython",
    "version": 3
   },
   "file_extension": ".py",
   "mimetype": "text/x-python",
   "name": "python",
   "nbconvert_exporter": "python",
   "pygments_lexer": "ipython3",
   "version": "3.10.10"
  },
  "papermill": {
   "default_parameters": {},
   "duration": 21.224466,
   "end_time": "2023-08-25T15:50:44.601496",
   "environment_variables": {},
   "exception": true,
   "input_path": "__notebook__.ipynb",
   "output_path": "__notebook__.ipynb",
   "parameters": {},
   "start_time": "2023-08-25T15:50:23.377030",
   "version": "2.4.0"
  }
 },
 "nbformat": 4,
 "nbformat_minor": 5
}
